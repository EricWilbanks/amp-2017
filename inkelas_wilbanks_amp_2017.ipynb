{
 "cells": [
  {
   "cell_type": "markdown",
   "metadata": {},
   "source": [
    "# AMP2017 Analyses and Code\n",
    "## Sharon Inkelas and Eric Wilbanks\n",
    "\n",
    "This document (and associated python scripts) is a collection of analyses presented at the 2017 Annual Meeting on Phonology. At present, the analyses are not highly documented here, but are meaningful when compared to the tableaux and phenomenon in the conference slides. \n",
    "\n",
    "If you have questions about the analysis, please email Eric Wilbanks at wilbanks_eric (at) berkeley (dot) edu"
   ]
  },
  {
   "cell_type": "markdown",
   "metadata": {},
   "source": [
    "# Toy Example Harmony Function\n",
    "\n",
    "This harmony function corresponds to the effect of the linear scaled constraint in the toy example."
   ]
  },
  {
   "cell_type": "code",
   "execution_count": 22,
   "metadata": {
    "collapsed": false
   },
   "outputs": [
    {
     "data": {
      "image/png": "[encoded data removed]",
      "text/plain": [
       "<matplotlib.figure.Figure at 0x7f30b4b46d30>"
      ]
     },
     "metadata": {},
     "output_type": "display_data"
    }
   ],
   "source": [
    "%matplotlib inline\n",
    "import pylab\n",
    "import numpy\n",
    "#from scipy.optimize import fmin\n",
    "\n",
    "## Define our harmony function and find its value at maximum harmony candidate x=1\n",
    "def f(x): return -x\n",
    "\n",
    "# Plot Full\n",
    "x_arr = numpy.linspace(1,7,100)\n",
    "y = f(x_arr)\n",
    "pylab.plot(x_arr,y)\n",
    "pylab.xlabel('Distance from Left-Edge of Projection')\n",
    "pylab.ylabel('Harmony') \n",
    "pylab.title('Harmony Function')\n",
    "pylab.savefig('toy_harm.png')\n",
    "pylab.show()"
   ]
  },
  {
   "cell_type": "markdown",
   "metadata": {},
   "source": [
    "# Japanese Mimetic Palatalization\n",
    "\n",
    "Testing distance-based penalty scaling for Japanese palataliation. See slides for relevant tableaux. "
   ]
  },
  {
   "cell_type": "code",
   "execution_count": 23,
   "metadata": {
    "collapsed": false
   },
   "outputs": [
    {
     "name": "stdout",
     "output_type": "stream",
     "text": [
      "Candidate 1: -5.00001133333\n",
      "Candidate 2: -6.00001366667\n",
      "Candidate 3: -2.000004\n",
      "Candidate 4: -4.000008\n",
      "Candidate 5: -6.00001233334\n",
      "Candidate 6: -5.00001133333\n",
      "Candidate 7: -5.00001133334\n",
      "Candidate 8: -5.00001033334\n",
      "{'b': 1.0000013333333329, 'z': 1.0000009999999868, 'a': 1.0000009999999979, 'y': 1.0000009999999917, 'x': 5.0000113333332923}\n"
     ]
    }
   ],
   "source": [
    "from japanese_mimetic3 import main as mim3\n",
    "\n",
    "mim3_params, mim3 = mim3()\n",
    "\n",
    "for n, harmony in enumerate(mim3):\n",
    "    print('Candidate ' + str(n+1) + ': ' + str(harmony))\n",
    "    \n",
    "print(mim3_params)"
   ]
  },
  {
   "cell_type": "markdown",
   "metadata": {},
   "source": [
    "# Selkup Quantity-Sensitive Stress\n",
    "Testing distance-based penalty scaling for Selkup stress assignment. See slides for relevant tableaux. "
   ]
  },
  {
   "cell_type": "code",
   "execution_count": 24,
   "metadata": {
    "collapsed": false,
    "scrolled": true
   },
   "outputs": [
    {
     "name": "stdout",
     "output_type": "stream",
     "text": [
      "Candidate 1: -2.0000065\n",
      "Candidate 2: -1.000002\n",
      "Candidate 3: -2.00000650001\n",
      "Candidate 4: -1.000003\n",
      "Candidate 5: -2.0000045\n",
      "Candidate 6: -2.0000065\n",
      "Candidate 7: -2.00000850002\n",
      "Candidate 8: -2.00000750001\n",
      "Candidate 9: -2.00000650001\n",
      "Candidate 10: -2.0000055\n",
      "{'b': 1.0000014999999813, 'z': 1.0000009999999957, 'a': 1.0000004999999825, 'y': 1.0000009999999973, 'x': 2.0000064999999445}\n"
     ]
    }
   ],
   "source": [
    "from selkup_stress import main as sks\n",
    "\n",
    "sks_params, sks = sks()\n",
    "\n",
    "for n, harmony in enumerate(sks):\n",
    "    print('Candidate ' + str(n+1) + ': ' + str(harmony))\n",
    "    \n",
    "print(sks_params)"
   ]
  },
  {
   "cell_type": "markdown",
   "metadata": {},
   "source": [
    "# Generating Final Default Stress in a 3-syllable final Window System\n",
    "\n",
    "## Intro\n",
    "\n",
    "In this demonstration, we will be modeling a system in which stress falls in a 3-syllable final window. If the underlying stress falls within this window, it is realized faithfully. Otherwise, the stress falls on the final syllable. \n",
    "\n",
    "Consider the system below: "
   ]
  },
  {
   "cell_type": "code",
   "execution_count": 25,
   "metadata": {
    "collapsed": false,
    "scrolled": false
   },
   "outputs": [
    {
     "data": {
      "text/html": [
       "<table border=\"1\" cellpadding=\"3\" cellspacing=\"0\"  style=\"border:1px solid black;border-collapse:collapse;\"><tr><td  style=\"background-color:grey;\"></td><td  style=\"background-color:grey;\">ssssssS</td><td  style=\"background-color:grey;\">x&nbsp(Faith)</td><td  style=\"background-color:grey;\">y&nbsp(Align-R)</td><td  style=\"background-color:grey;\">dist-from-right</td></tr><tr><td>1</td><td  style=\"background-color:green;\">ssssssS</td><td>0</td><td>-1</td><td>1</td></tr><tr><td>2</td><td>Sssssss</td><td>-1</td><td>-1</td><td>7</td></tr><tr><td>3</td><td>sssssSs</td><td>-1</td><td>-1</td><td>2</td></tr><tr><td>4</td><td>ssssSss</td><td>-1</td><td>-1</td><td>3</td></tr><tr><td>5</td><td>sssSsss</td><td>-1</td><td>-1</td><td>4</td></tr><tr><td></td><td></td><td></td><td></td><td></td></tr><tr><td  style=\"background-color:grey;\"></td><td  style=\"background-color:grey;\">sssSsss</td><td  style=\"background-color:grey;\">x&nbsp(Faith)</td><td  style=\"background-color:grey;\">y&nbsp(Align-R)</td><td  style=\"background-color:grey;\">dist-from-right</td></tr><tr><td>6</td><td  style=\"background-color:green;\">ssssssS</td><td>-1</td><td>-1</td><td>1</td></tr><tr><td>7</td><td>Sssssss</td><td>-1</td><td>-1</td><td>7</td></tr><tr><td>8</td><td>sssssSs</td><td>-1</td><td>-1</td><td>2</td></tr><tr><td>9</td><td>ssssSss</td><td>-1</td><td>-1</td><td>3</td></tr><tr><td>10</td><td>sssSsss</td><td>0</td><td>-1</td><td>4</td></tr><tr><td></td><td></td><td></td><td></td><td></td></tr><tr><td  style=\"background-color:grey;\"></td><td  style=\"background-color:grey;\">ssssSss</td><td  style=\"background-color:grey;\">x&nbsp(Faith)</td><td  style=\"background-color:grey;\">y&nbsp(Align-R)</td><td  style=\"background-color:grey;\">dist-from-right</td></tr><tr><td>11</td><td>ssssssS</td><td>-1</td><td>-1</td><td>1</td></tr><tr><td>12</td><td>Sssssss</td><td>-1</td><td>-1</td><td>7</td></tr><tr><td>13</td><td>sssssSs</td><td>-1</td><td>-1</td><td>2</td></tr><tr><td>14</td><td  style=\"background-color:green;\">ssssSss</td><td>0</td><td>-1</td><td>3</td></tr><tr><td>15</td><td>sssSsss</td><td>-1</td><td>-1</td><td>4</td></tr></table>"
      ],
      "text/plain": [
       "<ipy_table.IpyTable at 0x7f30b4ac89e8>"
      ]
     },
     "execution_count": 25,
     "metadata": {},
     "output_type": "execute_result"
    }
   ],
   "source": [
    "from ipy_table import *\n",
    "inputs = [[\"\",\"ssssssS\",\"x (Faith)\",\"y (Align-R)\",\"dist-from-right\"],[1,\"ssssssS\",0,-1,1],[2,\"Sssssss\",-1,-1,7],[3,\"sssssSs\",-1,-1,2],[4,\"ssssSss\",-1,-1,3],[5,\"sssSsss\",-1,-1,4],[\"\",\"\",\"\",\"\",\"\"],[\"\",\"sssSsss\",\"x (Faith)\",\"y (Align-R)\",\"dist-from-right\"],[6,\"ssssssS\",-1,-1,1],[7,\"Sssssss\",-1,-1,7],[8,\"sssssSs\",-1,-1,2],[9,\"ssssSss\",-1,-1,3],[10,\"sssSsss\",0,-1,4],[\"\",\"\",\"\",\"\",\"\"],[\"\",\"ssssSss\",\"x (Faith)\",\"y (Align-R)\",\"dist-from-right\"],[11,\"ssssssS\",-1,-1,1],[12,\"Sssssss\",-1,-1,7],[13,\"sssssSs\",-1,-1,2],[14,\"ssssSss\",0,-1,3],[15,\"sssSsss\",-1,-1,4]]\n",
    "make_table(inputs)\n",
    "set_row_style(0,color='grey')\n",
    "set_row_style(7,color='grey')\n",
    "set_row_style(14,color='grey')\n",
    "set_cell_style(1,1,color='green')\n",
    "set_cell_style(8,1,color='green')\n",
    "set_cell_style(18,1,color='green')"
   ]
  },
  {
   "cell_type": "markdown",
   "metadata": {},
   "source": [
    "## Scaling Function\n",
    "This solution assumes that a candidate's harmony is calculated as follows:\n",
    "\n",
    "`H = x * (violations of x) + y * (scaling_function) * violations of y)`\n",
    "\n",
    "The shape of the scaling function is `f(n)= a^n` where `a` is a constant across the system and `n` (in this example) corresponds to the stressed syllable's distance from the right edge. \n",
    "\n",
    "## Solution\n",
    "\n",
    "After solving for a system which satisfies our constraints (see `scalar_product_test4.py` and my sheet T4) we generate the harmony for each input's candidate. \n",
    "\n",
    "We can see that the winners for each input (Candidates 1, 6, and 14) are the highest (least negative) values for their input."
   ]
  },
  {
   "cell_type": "code",
   "execution_count": 26,
   "metadata": {
    "collapsed": false,
    "scrolled": true
   },
   "outputs": [
    {
     "name": "stdout",
     "output_type": "stream",
     "text": [
      "\n",
      "Input #1.0\n",
      "Candidate 1: -1.32471905183\n",
      "Candidate 2: -8.15919070039\n",
      "Candidate 3: -2.75487981142\n",
      "Candidate 4: -3.32472007042\n",
      "Candidate 5: -4.07959756316\n",
      "\n",
      "Input #2.0\n",
      "Candidate 6: -2.32472005183\n",
      "Candidate 7: -8.15919070039\n",
      "Candidate 8: -2.75487981142\n",
      "Candidate 9: -3.32472007042\n",
      "Candidate 10: -3.07959656316\n",
      "\n",
      "Input #3.0\n",
      "Candidate 11: -2.32472005183\n",
      "Candidate 12: -8.15919070039\n",
      "Candidate 13: -2.75487981142\n",
      "Candidate 14: -2.32471907042\n",
      "Candidate 15: -4.07959756316\n"
     ]
    }
   ],
   "source": [
    "from scalar_product_test4 import main as test4\n",
    "\n",
    "t4_params, t4 = test4()\n",
    "\n",
    "for n, harmony in enumerate(t4):\n",
    "    if n % 5 == 0:\n",
    "        print()\n",
    "        input = (n/5) + 1\n",
    "        print(\"Input #\" + str(input))\n",
    "    print('Candidate ' + str(n+1) + ': ' + str(harmony))"
   ]
  },
  {
   "cell_type": "markdown",
   "metadata": {},
   "source": [
    "## Coefficient Values\n",
    "\n",
    "The difference between candidates 11 and 14 is extremely small since the solution we have was minimizing the weights of the constraints. The values for each parameter is shown below."
   ]
  },
  {
   "cell_type": "code",
   "execution_count": 27,
   "metadata": {
    "collapsed": false
   },
   "outputs": [
    {
     "name": "stdout",
     "output_type": "stream",
     "text": [
      "('a', 1.3247177271169968)\n",
      "('y', 1.0000009999999997)\n",
      "('x', 1.0000009999999984)\n"
     ]
    }
   ],
   "source": [
    "for p in t4_params.items():\n",
    "    print(p)"
   ]
  },
  {
   "cell_type": "markdown",
   "metadata": {},
   "source": [
    "We can observe that the difference between x and y is quite small. Our system only requires that the weight of Align-R be slightly larger than the weight of Faith. "
   ]
  },
  {
   "cell_type": "code",
   "execution_count": 28,
   "metadata": {
    "collapsed": false
   },
   "outputs": [
    {
     "data": {
      "image/png": "[encoded data removed]",
      "text/plain": [
       "<matplotlib.figure.Figure at 0x7f30b4a15358>"
      ]
     },
     "metadata": {},
     "output_type": "display_data"
    }
   ],
   "source": [
    "%matplotlib inline\n",
    "import pylab\n",
    "import numpy\n",
    "#from scipy.optimize import fmin\n",
    "\n",
    "## Define our harmony function and find its value at maximum harmony candidate x=1\n",
    "def f(x): return -t4_params['y']*(t4_params['a']**x)\n",
    "#max_x = fmin(lambda x: -f(x), 0)\n",
    "max_x = 1\n",
    "max_y = f(max_x)\n",
    "\n",
    "# Find faith threshold\n",
    "threshold = max_y - t4_params['x']\n",
    "\n",
    "# Plot Full\n",
    "x = numpy.linspace(1,7,100)\n",
    "y = -t4_params['y']*(t4_params['a']**x)\n",
    "pylab.plot(x,y)\n",
    "pylab.axhline(threshold,color='red')\n",
    "pylab.xlabel('Distance from Right-Edge')\n",
    "pylab.ylabel('Harmony')\n",
    "pylab.title('Harmony for Faithful Candidates')\n",
    "pylab.savefig('t4_thresh.png')\n",
    "pylab.show()"
   ]
  },
  {
   "cell_type": "markdown",
   "metadata": {},
   "source": [
    "# Generating Antepenultimate Default Stress in a 3-syllable final Window System\n",
    "\n",
    "## Intro\n",
    "\n",
    "Now let's model a system in which stress falls in a 3-syllable final window but with default stress on the antepenultimate syllable as in the system below: "
   ]
  },
  {
   "cell_type": "code",
   "execution_count": 29,
   "metadata": {
    "collapsed": false,
    "scrolled": true
   },
   "outputs": [
    {
     "data": {
      "text/html": [
       "<table border=\"1\" cellpadding=\"3\" cellspacing=\"0\"  style=\"border:1px solid black;border-collapse:collapse;\"><tr><td  style=\"background-color:grey;\"></td><td  style=\"background-color:grey;\">ssssssS</td><td  style=\"background-color:grey;\">x&nbsp(Faith)</td><td  style=\"background-color:grey;\">y&nbsp(Align-R)</td><td  style=\"background-color:grey;\">dist-from-right</td></tr><tr><td>1</td><td  style=\"background-color:green;\">ssssssS</td><td>0</td><td>-1</td><td>1</td></tr><tr><td>2</td><td>Sssssss</td><td>-1</td><td>-1</td><td>7</td></tr><tr><td>3</td><td>sssssSs</td><td>-1</td><td>-1</td><td>2</td></tr><tr><td>4</td><td>ssssSss</td><td>-1</td><td>-1</td><td>3</td></tr><tr><td>5</td><td>sssSsss</td><td>-1</td><td>-1</td><td>4</td></tr><tr><td></td><td></td><td></td><td></td><td></td></tr><tr><td  style=\"background-color:grey;\"></td><td  style=\"background-color:grey;\">sssSsss</td><td  style=\"background-color:grey;\">x&nbsp(Faith)</td><td  style=\"background-color:grey;\">y&nbsp(Align-R)</td><td  style=\"background-color:grey;\">dist-from-right</td></tr><tr><td>6</td><td>ssssssS</td><td>-1</td><td>-1</td><td>1</td></tr><tr><td>7</td><td>Sssssss</td><td>-1</td><td>-1</td><td>7</td></tr><tr><td>8</td><td>sssssSs</td><td>-1</td><td>-1</td><td>2</td></tr><tr><td>9</td><td  style=\"background-color:green;\">ssssSss</td><td>-1</td><td>-1</td><td>3</td></tr><tr><td>10</td><td>sssSsss</td><td>0</td><td>-1</td><td>4</td></tr><tr><td></td><td></td><td></td><td></td><td></td></tr><tr><td  style=\"background-color:grey;\"></td><td  style=\"background-color:grey;\">ssssSss</td><td  style=\"background-color:grey;\">x&nbsp(Faith)</td><td  style=\"background-color:grey;\">y&nbsp(Align-R)</td><td  style=\"background-color:grey;\">dist-from-right</td></tr><tr><td>11</td><td>ssssssS</td><td>-1</td><td>-1</td><td>1</td></tr><tr><td>12</td><td>Sssssss</td><td>-1</td><td>-1</td><td>7</td></tr><tr><td>13</td><td>sssssSs</td><td>-1</td><td>-1</td><td>2</td></tr><tr><td>14</td><td  style=\"background-color:green;\">ssssSss</td><td>0</td><td>-1</td><td>3</td></tr><tr><td>15</td><td>sssSsss</td><td>-1</td><td>-1</td><td>4</td></tr></table>"
      ],
      "text/plain": [
       "<ipy_table.IpyTable at 0x7f30b4adb828>"
      ]
     },
     "execution_count": 29,
     "metadata": {},
     "output_type": "execute_result"
    }
   ],
   "source": [
    "from ipy_table import *\n",
    "inputs = [[\"\",\"ssssssS\",\"x (Faith)\",\"y (Align-R)\",\"dist-from-right\"],[1,\"ssssssS\",0,-1,1],[2,\"Sssssss\",-1,-1,7],[3,\"sssssSs\",-1,-1,2],[4,\"ssssSss\",-1,-1,3],[5,\"sssSsss\",-1,-1,4],[\"\",\"\",\"\",\"\",\"\"],[\"\",\"sssSsss\",\"x (Faith)\",\"y (Align-R)\",\"dist-from-right\"],[6,\"ssssssS\",-1,-1,1],[7,\"Sssssss\",-1,-1,7],[8,\"sssssSs\",-1,-1,2],[9,\"ssssSss\",-1,-1,3],[10,\"sssSsss\",0,-1,4],[\"\",\"\",\"\",\"\",\"\"],[\"\",\"ssssSss\",\"x (Faith)\",\"y (Align-R)\",\"dist-from-right\"],[11,\"ssssssS\",-1,-1,1],[12,\"Sssssss\",-1,-1,7],[13,\"sssssSs\",-1,-1,2],[14,\"ssssSss\",0,-1,3],[15,\"sssSsss\",-1,-1,4]]\n",
    "make_table(inputs)\n",
    "set_row_style(0,color='grey')\n",
    "set_row_style(7,color='grey')\n",
    "set_row_style(14,color='grey')\n",
    "set_cell_style(1,1,color='green')\n",
    "set_cell_style(11,1,color='green')\n",
    "set_cell_style(18,1,color='green')"
   ]
  },
  {
   "cell_type": "markdown",
   "metadata": {},
   "source": [
    "## Discussion\n",
    "\n",
    "In this example, candidate 9 wins over candidate 6. Recall our calculation of harmonies from the previous example. \n",
    "\n",
    "Candidate 6's harmony would be equal to `-x-y*(a^1)` while Candidate 9's harmony would be equal to `-x-y*(a^3)`.\n",
    "\n",
    "For this system to work, candidate 9's harmony must be greater than candidate 6's. \n",
    "\n",
    "`-x-y*(a^3) > -x-y*(a^1)`\n",
    "\n",
    "which is\n",
    "\n",
    "`-y*(a^3) > -y*(a^1)`\n",
    "\n",
    "This is fine until we realize that Candidate 9's harmony must also be greater than candidate 7's. \n",
    "\n",
    "`-y*(a^3) > -y*(a^7)`\n",
    "\n",
    "And with this we run into issues. The first comparison (9 and 6) is only true if `a > 1`. The second is only true if `a < 1`. \n",
    "\n",
    "In order to model this system we also need to introduce a secondary force in the form of a scaled Align-L constraint."
   ]
  },
  {
   "cell_type": "markdown",
   "metadata": {},
   "source": [
    "## Scaling Align-L\n",
    "\n",
    "Let's introduce a scaling of Align-L similar to that of Align-L. In this case, the scaling function is `g(x)=b^x` in which the scaling factor `b` may be different from the scaling factor of Align-R (`a`). Our new system is as follows:\n"
   ]
  },
  {
   "cell_type": "code",
   "execution_count": 30,
   "metadata": {
    "collapsed": false,
    "scrolled": true
   },
   "outputs": [
    {
     "data": {
      "text/html": [
       "<table border=\"1\" cellpadding=\"3\" cellspacing=\"0\"  style=\"border:1px solid black;border-collapse:collapse;\"><tr><td  style=\"background-color:grey;\"></td><td  style=\"background-color:grey;\">ssssssS</td><td  style=\"background-color:grey;\">x&nbsp(Faith)</td><td  style=\"background-color:grey;\">y&nbsp(Align-R)</td><td  style=\"background-color:grey;\">dist-from-right</td><td  style=\"background-color:grey;\">z&nbsp(Align-L)</td><td  style=\"background-color:grey;\">dist-from-left</td></tr><tr><td>1</td><td  style=\"background-color:green;\">ssssssS</td><td>0</td><td>-1</td><td>1</td><td>-1</td><td>7</td></tr><tr><td>2</td><td>Sssssss</td><td>-1</td><td>-1</td><td>7</td><td>-1</td><td>1</td></tr><tr><td>3</td><td>sssssSs</td><td>-1</td><td>-1</td><td>2</td><td>-1</td><td>6</td></tr><tr><td>4</td><td>ssssSss</td><td>-1</td><td>-1</td><td>3</td><td>-1</td><td>5</td></tr><tr><td>5</td><td>sssSsss</td><td>-1</td><td>-1</td><td>4</td><td>-1</td><td>4</td></tr><tr><td></td><td></td><td></td><td></td><td></td><td></td><td></td></tr><tr><td  style=\"background-color:grey;\"></td><td  style=\"background-color:grey;\">sssSsss</td><td  style=\"background-color:grey;\">x&nbsp(Faith)</td><td  style=\"background-color:grey;\">y&nbsp(Align-R)</td><td  style=\"background-color:grey;\">dist-from-right</td><td  style=\"background-color:grey;\">z&nbsp(Align-L)</td><td  style=\"background-color:grey;\">dist-from-left</td></tr><tr><td>6</td><td>ssssssS</td><td>-1</td><td>-1</td><td>1</td><td>-1</td><td>7</td></tr><tr><td>7</td><td>Sssssss</td><td>-1</td><td>-1</td><td>7</td><td>-1</td><td>1</td></tr><tr><td>8</td><td>sssssSs</td><td>-1</td><td>-1</td><td>2</td><td>-1</td><td>6</td></tr><tr><td>9</td><td  style=\"background-color:green;\">ssssSss</td><td>-1</td><td>-1</td><td>3</td><td>-1</td><td>5</td></tr><tr><td>10</td><td>sssSsss</td><td>0</td><td>-1</td><td>4</td><td>-1</td><td>4</td></tr><tr><td></td><td></td><td></td><td></td><td></td><td></td><td></td></tr><tr><td  style=\"background-color:grey;\"></td><td  style=\"background-color:grey;\">ssssSss</td><td  style=\"background-color:grey;\">x&nbsp(Faith)</td><td  style=\"background-color:grey;\">y&nbsp(Align-R)</td><td  style=\"background-color:grey;\">dist-from-right</td><td  style=\"background-color:grey;\">z&nbsp(Align-L)</td><td  style=\"background-color:grey;\">dist-from-left</td></tr><tr><td>11</td><td>ssssssS</td><td>-1</td><td>-1</td><td>1</td><td>-1</td><td>7</td></tr><tr><td>12</td><td>Sssssss</td><td>-1</td><td>-1</td><td>7</td><td>-1</td><td>1</td></tr><tr><td>13</td><td>sssssSs</td><td>-1</td><td>-1</td><td>2</td><td>-1</td><td>6</td></tr><tr><td>14</td><td  style=\"background-color:green;\">ssssSss</td><td>0</td><td>-1</td><td>3</td><td>-1</td><td>5</td></tr><tr><td>15</td><td>sssSsss</td><td>-1</td><td>-1</td><td>4</td><td>-1</td><td>4</td></tr></table>"
      ],
      "text/plain": [
       "<ipy_table.IpyTable at 0x7f30b4ebab70>"
      ]
     },
     "execution_count": 30,
     "metadata": {},
     "output_type": "execute_result"
    }
   ],
   "source": [
    "from ipy_table import *\n",
    "inputs = [[\"\",\"ssssssS\",\"x (Faith)\",\"y (Align-R)\",\"dist-from-right\",\"z (Align-L)\",\"dist-from-left\"],[1,\"ssssssS\",0,-1,1,-1,7],[2,\"Sssssss\",-1,-1,7,-1,1],[3,\"sssssSs\",-1,-1,2,-1,6],[4,\"ssssSss\",-1,-1,3,-1,5],[5,\"sssSsss\",-1,-1,4,-1,4],[\"\",\"\",\"\",\"\",\"\",\"\",\"\"],[\"\",\"sssSsss\",\"x (Faith)\",\"y (Align-R)\",\"dist-from-right\",\"z (Align-L)\",\"dist-from-left\"],[6,\"ssssssS\",-1,-1,1,-1,7],[7,\"Sssssss\",-1,-1,7,-1,1],[8,\"sssssSs\",-1,-1,2,-1,6],[9,\"ssssSss\",-1,-1,3,-1,5],[10,\"sssSsss\",0,-1,4,-1,4],[\"\",\"\",\"\",\"\",\"\",\"\",\"\"],[\"\",\"ssssSss\",\"x (Faith)\",\"y (Align-R)\",\"dist-from-right\",\"z (Align-L)\",\"dist-from-left\"],[11,\"ssssssS\",-1,-1,1,-1,7],[12,\"Sssssss\",-1,-1,7,-1,1],[13,\"sssssSs\",-1,-1,2,-1,6],[14,\"ssssSss\",0,-1,3,-1,5],[15,\"sssSsss\",-1,-1,4,-1,4]]\n",
    "make_table(inputs)\n",
    "set_row_style(0,color='grey')\n",
    "set_row_style(7,color='grey')\n",
    "set_row_style(14,color='grey')\n",
    "set_cell_style(1,1,color='green')\n",
    "set_cell_style(11,1,color='green')\n",
    "set_cell_style(18,1,color='green')"
   ]
  },
  {
   "cell_type": "code",
   "execution_count": 31,
   "metadata": {
    "collapsed": false,
    "scrolled": true
   },
   "outputs": [
    {
     "name": "stdout",
     "output_type": "stream",
     "text": [
      "\n",
      "Input #1.0\n",
      "Candidate 1: -12.9932387433\n",
      "Candidate 2: -54.6151367486\n",
      "Candidate 3: -12.9932407362\n",
      "Candidate 4: -12.9932397412\n",
      "Candidate 5: -15.4269844941\n",
      "\n",
      "Input #2.0\n",
      "Candidate 6: -14.9527302671\n",
      "Candidate 7: -54.6151367486\n",
      "Candidate 8: -12.9932407362\n",
      "Candidate 9: -12.9932397412\n",
      "Candidate 10: -13.4674929703\n",
      "\n",
      "Input #3.0\n",
      "Candidate 11: -14.9527302671\n",
      "Candidate 12: -54.6151367486\n",
      "Candidate 13: -12.9932407362\n",
      "Candidate 14: -11.0337482174\n",
      "Candidate 15: -15.4269844941\n"
     ]
    }
   ],
   "source": [
    "from scalar_product_test5 import main as test5\n",
    "\n",
    "t5_params, t5 = test5()\n",
    "\n",
    "for n, harmony in enumerate(t5):\n",
    "    if n % 5 == 0:\n",
    "        print()\n",
    "        input = (n/5) + 1\n",
    "        print(\"Input #\" + str(input))\n",
    "    print('Candidate ' + str(n+1) + ': ' + str(harmony))"
   ]
  },
  {
   "cell_type": "markdown",
   "metadata": {},
   "source": [
    "## Coefficient Values\n",
    "\n",
    "With the effect of scaling Align-L we get the optimal candidate 9 to win. The values for the coefficients are below."
   ]
  },
  {
   "cell_type": "code",
   "execution_count": 32,
   "metadata": {
    "collapsed": false
   },
   "outputs": [
    {
     "name": "stdout",
     "output_type": "stream",
     "text": [
      "('b', 1.4128649746767603)\n",
      "('z', 1.0000010022518417)\n",
      "('a', 1.7548224302216895)\n",
      "('y', 1.0000010002276869)\n",
      "('x', 1.9594915238194803)\n"
     ]
    }
   ],
   "source": [
    "for p in t5_params.items():\n",
    "    print(p)"
   ]
  },
  {
   "cell_type": "markdown",
   "metadata": {},
   "source": [
    "## Visualizing Why it Works\n",
    "\n",
    "For this example it really helps to visualize the cumulative effect of the two different scaling functions for Align-L and Align-R.\n",
    "\n",
    "In the below plot the x-axis is syllables distance from the right edge. We can see that with the scaling factors of the two constraints we derive a harmony maximum at syllable 3 (actually syllable 2.508996 since the optimizer doesn't know that we're dealing with integers. the important bit is it rounds up to three and not down to two). \n",
    "\n"
   ]
  },
  {
   "cell_type": "code",
   "execution_count": 33,
   "metadata": {
    "collapsed": false,
    "scrolled": true
   },
   "outputs": [
    {
     "data": {
      "image/png": "[encoded data removed]",
      "text/plain": [
       "<matplotlib.figure.Figure at 0x7f30b4a500f0>"
      ]
     },
     "metadata": {},
     "output_type": "display_data"
    }
   ],
   "source": [
    "%matplotlib inline\n",
    "import pylab\n",
    "import numpy\n",
    "\n",
    "x = numpy.linspace(1,7,100)\n",
    "y = -t5_params['y']*(t5_params['a']**x) - t5_params['z']*(t5_params['b']**(8-x))\n",
    "pylab.plot(x,y)\n",
    "pylab.xlabel('Distance from Right-Edge')\n",
    "pylab.ylabel('Harmony')\n",
    "pylab.title('Harmony for Faithful Candidates')\n",
    "pylab.show()"
   ]
  },
  {
   "cell_type": "markdown",
   "metadata": {},
   "source": [
    "In the above graph, all candidates are assumed to be faithful. How then do we generate our windows? For instance, why does a candidate at x = 4 default to our maximum harmony position? \n",
    "\n",
    "This is accomplished by weighting faith to a value that is greater than the distance between the harmony for the minimum within the accepted window (x=1) and less than the harmony difference for the next closest candidate outside of the window (x=4). \n",
    "\n",
    "This is visualized in the graph below. \n",
    "\n",
    "The red line represents the harmony value for the optimal position (x=3) minus the weight of Faith. This establishes a harmony threshold above which the output remains faithful and below which the candidate is unfaithful and moves into the default window position. "
   ]
  },
  {
   "cell_type": "code",
   "execution_count": 34,
   "metadata": {
    "collapsed": false,
    "scrolled": true
   },
   "outputs": [],
   "source": [
    "#x_7 = numpy.linspace(1,7,7)\n",
    "#y_7 = -t5_params['y']*(t5_params['a']**x_7) - t5_params['z']*(t5_params['b']**(8-x_7))\n",
    "#print(\"Harmonies for faithful candidates in x = 1 to x = 4\")\n",
    "#print(y_7[0:4])\n",
    "#print()\n",
    "#print(\"Harmony difference between optimal (x=3) and x=1\")\n",
    "#print(y_7[2]-y_7[0])\n",
    "#print()\n",
    "#print(\"Harmony difference between optimal (x=3) and x=4\")\n",
    "#print(y_7[2]-y_7[3])\n",
    "#print()\n",
    "#print(\"Weight of faith\")\n",
    "#print(t5_params['x'])\n",
    "#print()\n",
    "#print(\"Difference between Weight of Faith and Harmony difference x3-x1\")\n",
    "#print(t5_params['x'] - (y_7[2]-y_7[0]))"
   ]
  },
  {
   "cell_type": "code",
   "execution_count": 35,
   "metadata": {
    "collapsed": false,
    "scrolled": true
   },
   "outputs": [
    {
     "data": {
      "image/png": "[encoded data removed]",
      "text/plain": [
       "<matplotlib.figure.Figure at 0x7f30b4a15b38>"
      ]
     },
     "metadata": {},
     "output_type": "display_data"
    },
    {
     "data": {
      "image/png": "[encoded data removed]",
      "text/plain": [
       "<matplotlib.figure.Figure at 0x7f30b49f8e80>"
      ]
     },
     "metadata": {},
     "output_type": "display_data"
    }
   ],
   "source": [
    "%matplotlib inline\n",
    "import pylab\n",
    "import numpy\n",
    "#from scipy.optimize import fmin\n",
    "\n",
    "## Define our harmony function and find its value at maximum harmony candidate x=3\n",
    "def f(x): return -t5_params['y']*(t5_params['a']**x) - t5_params['z']*(t5_params['b']**(8-x))\n",
    "#max_x = fmin(lambda x: -f(x), 0)\n",
    "max_x = 3\n",
    "max_y = f(max_x)\n",
    "\n",
    "# Find faith threshold\n",
    "threshold = max_y - t5_params['x']\n",
    "\n",
    "# Plot Full\n",
    "x = numpy.linspace(1,7,100)\n",
    "y = -t5_params['y']*(t5_params['a']**x) - t5_params['z']*(t5_params['b']**(8-x))\n",
    "pylab.plot(x,y)\n",
    "pylab.axhline(threshold,color='red')\n",
    "pylab.xlabel('Distance from Right-Edge')\n",
    "pylab.ylabel('Harmony')\n",
    "pylab.title('Harmony for Faithful Candidates')\n",
    "pylab.savefig('t5_thresh_full.png')\n",
    "pylab.show()\n",
    "\n",
    "# Plot range 1-4\n",
    "x = numpy.linspace(1,4,100)\n",
    "y = -t5_params['y']*(t5_params['a']**x) - t5_params['z']*(t5_params['b']**(8-x))\n",
    "pylab.plot(x,y)\n",
    "pylab.axhline(threshold,color='red')\n",
    "pylab.xlabel('Distance from Right-Edge')\n",
    "pylab.ylabel('Harmony')\n",
    "pylab.title('Harmony for Faithful Candidates')\n",
    "pylab.savefig('t5_thresh_sub.png')\n",
    "pylab.show()"
   ]
  },
  {
   "cell_type": "markdown",
   "metadata": {},
   "source": [
    "# Stress in Middle of Window\n",
    "\n",
    "Let's consider a system like above with the stress on the penultimate syllable, in the middle of the window. "
   ]
  },
  {
   "cell_type": "code",
   "execution_count": 36,
   "metadata": {
    "collapsed": false,
    "scrolled": true
   },
   "outputs": [
    {
     "name": "stdout",
     "output_type": "stream",
     "text": [
      "\n",
      "Input #1.0\n",
      "Candidate 1: -9.15826925854\n",
      "Candidate 2: -38.0560683701\n",
      "Candidate 3: -9.39648101396\n",
      "Candidate 4: -9.84366528405\n",
      "Candidate 5: -11.8765975721\n",
      "\n",
      "Input #2.0\n",
      "Candidate 6: -10.1582702585\n",
      "Candidate 7: -38.0560683701\n",
      "Candidate 8: -9.39648101396\n",
      "Candidate 9: -9.84366528405\n",
      "Candidate 10: -10.8765965721\n",
      "\n",
      "Input #3.0\n",
      "Candidate 11: -10.1582702585\n",
      "Candidate 12: -38.0560683701\n",
      "Candidate 13: -9.39648101396\n",
      "Candidate 14: -8.84366428405\n",
      "Candidate 15: -11.8765975721\n"
     ]
    }
   ],
   "source": [
    "from scalar_product_test6 import main as test6\n",
    "\n",
    "t6_params, t6 = test6()\n",
    "\n",
    "for n, harmony in enumerate(t6):\n",
    "    if n % 5 == 0:\n",
    "        print()\n",
    "        input = (n/5) + 1\n",
    "        print(\"Input #\" + str(input))\n",
    "    print('Candidate ' + str(n+1) + ': ' + str(harmony))"
   ]
  },
  {
   "cell_type": "code",
   "execution_count": 37,
   "metadata": {
    "collapsed": false,
    "scrolled": true
   },
   "outputs": [
    {
     "data": {
      "image/png": "[encoded data removed]",
      "text/plain": [
       "<matplotlib.figure.Figure at 0x7f30b4c24ac8>"
      ]
     },
     "metadata": {},
     "output_type": "display_data"
    }
   ],
   "source": [
    "%matplotlib inline\n",
    "import pylab\n",
    "import numpy\n",
    "\n",
    "x = numpy.linspace(1,7,100)\n",
    "y = -t6_params['y']*(t6_params['a']**x) - t6_params['z']*(t6_params['b']**(8-x))\n",
    "pylab.plot(x,y)\n",
    "pylab.show()"
   ]
  },
  {
   "cell_type": "code",
   "execution_count": 43,
   "metadata": {
    "collapsed": false,
    "scrolled": false
   },
   "outputs": [
    {
     "data": {
      "image/png": "[encoded data removed]",
      "text/plain": [
       "<matplotlib.figure.Figure at 0x7f30b4bfca90>"
      ]
     },
     "metadata": {},
     "output_type": "display_data"
    },
    {
     "data": {
      "image/png": "[encoded data removed]",
      "text/plain": [
       "<matplotlib.figure.Figure at 0x7f30b4e88470>"
      ]
     },
     "metadata": {},
     "output_type": "display_data"
    }
   ],
   "source": [
    "%matplotlib inline\n",
    "import pylab\n",
    "import numpy\n",
    "#from scipy.optimize import fmin\n",
    "\n",
    "## Define our harmony function and find its value at maximum harmony candidate x=2\n",
    "def f(x): return -t6_params['y']*(t6_params['a']**x) - t6_params['z']*(t6_params['b']**(8-x))\n",
    "#max_x = fmin(lambda x: -f(x), 0)\n",
    "max_x = 2\n",
    "max_y = f(max_x)\n",
    "\n",
    "# Find faith threshold\n",
    "threshold = max_y - t6_params['x']\n",
    "\n",
    "# Plot Full\n",
    "x = numpy.linspace(1,7,100)\n",
    "y = -t6_params['y']*(t6_params['a']**x) - t6_params['z']*(t6_params['b']**(8-x))\n",
    "pylab.plot(x,y)\n",
    "pylab.axhline(threshold,color='red')\n",
    "pylab.xlabel('Distance from Right-Edge')\n",
    "pylab.ylabel('Harmony')\n",
    "pylab.title('Harmony for Faithful Candidates')\n",
    "pylab.savefig('t6_thresh_full.png')\n",
    "pylab.show()\n",
    "\n",
    "# Plot range 1-4\n",
    "x = numpy.linspace(1,4,100)\n",
    "y = -t6_params['y']*(t6_params['a']**x) - t6_params['z']*(t6_params['b']**(8-x))\n",
    "pylab.plot(x,y)\n",
    "pylab.axhline(threshold,color='red')\n",
    "pylab.xlabel('Distance from Right-Edge')\n",
    "pylab.ylabel('Harmony')\n",
    "pylab.title('Harmony for Faithful Candidates')\n",
    "pylab.savefig('t6_thresh_sub.png')\n",
    "pylab.show()"
   ]
  }
 ],
 "metadata": {
  "kernelspec": {
   "display_name": "Python 3",
   "language": "python",
   "name": "python3"
  },
  "language_info": {
   "codemirror_mode": {
    "name": "ipython",
    "version": 3
   },
   "file_extension": ".py",
   "mimetype": "text/x-python",
   "name": "python",
   "nbconvert_exporter": "python",
   "pygments_lexer": "ipython3",
   "version": "3.5.1"
  }
 },
 "nbformat": 4,
 "nbformat_minor": 0
}
